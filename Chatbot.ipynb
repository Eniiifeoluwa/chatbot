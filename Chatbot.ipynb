{
  "nbformat": 4,
  "nbformat_minor": 0,
  "metadata": {
    "colab": {
      "provenance": [],
      "gpuType": "T4"
    },
    "kernelspec": {
      "name": "python3",
      "display_name": "Python 3"
    },
    "language_info": {
      "name": "python"
    },
    "accelerator": "GPU"
  },
  "cells": [
    {
      "cell_type": "code",
      "source": [
        "import json\n",
        "\n",
        "with open('/content/Food menu.json', 'r') as f:\n",
        "    data = json.load(f)\n",
        "qa_pairs = []\n",
        "\n",
        "\n",
        "for faq in data['restaurant']['faq']:\n",
        "    qa_pairs.append((faq['question'], faq['answer']))\n",
        "\n",
        "\n",
        "for category, items in data['restaurant']['menu'].items():\n",
        "    for item in items:\n",
        "        qa_pairs.append((f\"Tell me about {item['name']}.\", item['description']))\n",
        "\n",
        "\n",
        "qa_data = [{\"question\": question, \"answer\": answer} for question, answer in qa_pairs]\n",
        "\n",
        "\n",
        "print(json.dumps(qa_data[:5], indent=2))\n",
        "\n",
        "# Create training data in text format\n",
        "training_data = \"\"\n",
        "for pair in qa_data:\n",
        "    training_data += f\"Question: {pair['question']}\\nAnswer: {pair['answer']}\\n\\n\"\n",
        "\n",
        "with open('restaurant_training_data.txt', 'w') as f:\n",
        "    f.write(training_data)\n"
      ],
      "metadata": {
        "colab": {
          "base_uri": "https://localhost:8080/"
        },
        "id": "Kmdq75lruX2A",
        "outputId": "9d460603-5296-4f8f-a74c-a4468282808b"
      },
      "execution_count": 23,
      "outputs": [
        {
          "output_type": "stream",
          "name": "stdout",
          "text": [
            "[\n",
            "  {\n",
            "    \"question\": \"Do you have vegetarian options?\",\n",
            "    \"answer\": \"Yes, we offer a variety of vegetarian dishes on our menu.\"\n",
            "  },\n",
            "  {\n",
            "    \"question\": \"Do you offer gluten-free options?\",\n",
            "    \"answer\": \"Yes, we have several gluten-free dishes available.\"\n",
            "  },\n",
            "  {\n",
            "    \"question\": \"Can I make a reservation online?\",\n",
            "    \"answer\": \"Yes, you can make a reservation through our website.\"\n",
            "  },\n",
            "  {\n",
            "    \"question\": \"Do you offer catering services?\",\n",
            "    \"answer\": \"Yes, we provide catering services for all types of events.\"\n",
            "  },\n",
            "  {\n",
            "    \"question\": \"Tell me about Bruschetta.\",\n",
            "    \"answer\": \"Grilled bread topped with diced tomatoes, garlic, and basil.\"\n",
            "  }\n",
            "]\n"
          ]
        }
      ]
    },
    {
      "cell_type": "code",
      "source": [
        "import torch\n",
        "from transformers import GPT2Tokenizer, GPT2LMHeadModel, TextDataset, DataCollatorForLanguageModeling, Trainer, TrainingArguments\n",
        "\n",
        "device = 'cuda' if torch.cuda.is_available() else 'cpu'\n",
        "print(f\"Using device: {device}\")\n",
        "\n",
        "\n",
        "model_name = \"gpt2\"\n",
        "tokenizer = GPT2Tokenizer.from_pretrained(model_name)\n",
        "model = GPT2LMHeadModel.from_pretrained(model_name).to(device)\n",
        "\n",
        "\n",
        "def load_dataset(file_path, tokenizer):\n",
        "    dataset = TextDataset(\n",
        "        tokenizer=tokenizer,\n",
        "        file_path=file_path,\n",
        "        block_size=128\n",
        "    )\n",
        "    return dataset\n",
        "\n",
        "train_dataset = load_dataset('restaurant_training_data.txt', tokenizer)\n",
        "\n",
        "data_collator = DataCollatorForLanguageModeling(\n",
        "    tokenizer=tokenizer,\n",
        "    mlm=False,\n",
        ")\n",
        "\n",
        "\n",
        "training_args = TrainingArguments(\n",
        "    output_dir=\"./results\",\n",
        "    overwrite_output_dir=True,\n",
        "    num_train_epochs=45,\n",
        "    per_device_train_batch_size=2,\n",
        "    save_steps=10_000,\n",
        "    save_total_limit=2,\n",
        "    prediction_loss_only=True,\n",
        ")\n",
        "\n",
        "trainer = Trainer(\n",
        "    model=model,\n",
        "    args=training_args,\n",
        "    data_collator=data_collator,\n",
        "    train_dataset=train_dataset,\n",
        ")\n",
        "\n",
        "# Fine-tune the model\n",
        "trainer.train()\n"
      ],
      "metadata": {
        "colab": {
          "base_uri": "https://localhost:8080/",
          "height": 182
        },
        "id": "F68FGKtduj8U",
        "outputId": "116340b8-cad5-44b5-a9fe-424d89d1d370"
      },
      "execution_count": 25,
      "outputs": [
        {
          "output_type": "stream",
          "name": "stdout",
          "text": [
            "Using device: cuda\n"
          ]
        },
        {
          "output_type": "stream",
          "name": "stderr",
          "text": [
            "/usr/local/lib/python3.10/dist-packages/transformers/data/datasets/language_modeling.py:53: FutureWarning: This dataset will be removed from the library soon, preprocessing should be handled with the 🤗 Datasets library. You can have a look at this example script for pointers: https://github.com/huggingface/transformers/blob/main/examples/pytorch/language-modeling/run_mlm.py\n",
            "  warnings.warn(\n"
          ]
        },
        {
          "output_type": "display_data",
          "data": {
            "text/plain": [
              "<IPython.core.display.HTML object>"
            ],
            "text/html": [
              "\n",
              "    <div>\n",
              "      \n",
              "      <progress value='45' max='45' style='width:300px; height:20px; vertical-align: middle;'></progress>\n",
              "      [45/45 00:23, Epoch 45/45]\n",
              "    </div>\n",
              "    <table border=\"1\" class=\"dataframe\">\n",
              "  <thead>\n",
              " <tr style=\"text-align: left;\">\n",
              "      <th>Step</th>\n",
              "      <th>Training Loss</th>\n",
              "    </tr>\n",
              "  </thead>\n",
              "  <tbody>\n",
              "  </tbody>\n",
              "</table><p>"
            ]
          },
          "metadata": {}
        },
        {
          "output_type": "execute_result",
          "data": {
            "text/plain": [
              "TrainOutput(global_step=45, training_loss=0.4748451656765408, metrics={'train_runtime': 23.3044, 'train_samples_per_second': 3.862, 'train_steps_per_second': 1.931, 'total_flos': 5879070720000.0, 'train_loss': 0.4748451656765408, 'epoch': 45.0})"
            ]
          },
          "metadata": {},
          "execution_count": 25
        }
      ]
    },
    {
      "cell_type": "code",
      "source": [
        "# Save the model and tokenizer\n",
        "model.save_pretrained(\"./fine-tuned-gpt2\")\n",
        "tokenizer.save_pretrained(\"./fine-tuned-gpt2\")\n"
      ],
      "metadata": {
        "colab": {
          "base_uri": "https://localhost:8080/"
        },
        "id": "XtdsZG71u144",
        "outputId": "52a1d527-79f5-4a66-b07b-bc23b50fd713"
      },
      "execution_count": 26,
      "outputs": [
        {
          "output_type": "execute_result",
          "data": {
            "text/plain": [
              "('./fine-tuned-gpt2/tokenizer_config.json',\n",
              " './fine-tuned-gpt2/special_tokens_map.json',\n",
              " './fine-tuned-gpt2/vocab.json',\n",
              " './fine-tuned-gpt2/merges.txt',\n",
              " './fine-tuned-gpt2/added_tokens.json')"
            ]
          },
          "metadata": {},
          "execution_count": 26
        }
      ]
    },
    {
      "source": [
        "!zip -r /content/fine-tuned-gpt2.zip /content/fine-tuned-gpt2"
      ],
      "cell_type": "code",
      "metadata": {
        "colab": {
          "base_uri": "https://localhost:8080/"
        },
        "id": "4y1627PMv_St",
        "outputId": "b377680c-e741-4bcc-a61b-786d0cf95e00"
      },
      "execution_count": 30,
      "outputs": [
        {
          "output_type": "stream",
          "name": "stdout",
          "text": [
            "  adding: content/fine-tuned-gpt2/ (stored 0%)\n",
            "  adding: content/fine-tuned-gpt2/vocab.json (deflated 68%)\n",
            "  adding: content/fine-tuned-gpt2/config.json (deflated 51%)\n",
            "  adding: content/fine-tuned-gpt2/tokenizer_config.json (deflated 54%)\n",
            "  adding: content/fine-tuned-gpt2/merges.txt (deflated 53%)\n",
            "  adding: content/fine-tuned-gpt2/generation_config.json (deflated 24%)\n",
            "  adding: content/fine-tuned-gpt2/model.safetensors (deflated 7%)\n",
            "  adding: content/fine-tuned-gpt2/special_tokens_map.json (deflated 74%)\n"
          ]
        }
      ]
    },
    {
      "cell_type": "code",
      "source": [
        "from google.colab import files\n",
        "files.download(\"/content/fine-tuned-gpt2.zip\")"
      ],
      "metadata": {
        "colab": {
          "base_uri": "https://localhost:8080/",
          "height": 34
        },
        "id": "hZKwaqS8weEn",
        "outputId": "5cd26507-3181-4ebc-8c56-204ab375b014"
      },
      "execution_count": 31,
      "outputs": [
        {
          "output_type": "display_data",
          "data": {
            "text/plain": [
              "<IPython.core.display.Javascript object>"
            ],
            "application/javascript": [
              "\n",
              "    async function download(id, filename, size) {\n",
              "      if (!google.colab.kernel.accessAllowed) {\n",
              "        return;\n",
              "      }\n",
              "      const div = document.createElement('div');\n",
              "      const label = document.createElement('label');\n",
              "      label.textContent = `Downloading \"${filename}\": `;\n",
              "      div.appendChild(label);\n",
              "      const progress = document.createElement('progress');\n",
              "      progress.max = size;\n",
              "      div.appendChild(progress);\n",
              "      document.body.appendChild(div);\n",
              "\n",
              "      const buffers = [];\n",
              "      let downloaded = 0;\n",
              "\n",
              "      const channel = await google.colab.kernel.comms.open(id);\n",
              "      // Send a message to notify the kernel that we're ready.\n",
              "      channel.send({})\n",
              "\n",
              "      for await (const message of channel.messages) {\n",
              "        // Send a message to notify the kernel that we're ready.\n",
              "        channel.send({})\n",
              "        if (message.buffers) {\n",
              "          for (const buffer of message.buffers) {\n",
              "            buffers.push(buffer);\n",
              "            downloaded += buffer.byteLength;\n",
              "            progress.value = downloaded;\n",
              "          }\n",
              "        }\n",
              "      }\n",
              "      const blob = new Blob(buffers, {type: 'application/binary'});\n",
              "      const a = document.createElement('a');\n",
              "      a.href = window.URL.createObjectURL(blob);\n",
              "      a.download = filename;\n",
              "      div.appendChild(a);\n",
              "      a.click();\n",
              "      div.remove();\n",
              "    }\n",
              "  "
            ]
          },
          "metadata": {}
        },
        {
          "output_type": "display_data",
          "data": {
            "text/plain": [
              "<IPython.core.display.Javascript object>"
            ],
            "application/javascript": [
              "download(\"download_331239b5-cc10-47ea-af97-501c79f20d81\", \"fine-tuned-gpt2.zip\", 462884946)"
            ]
          },
          "metadata": {}
        }
      ]
    },
    {
      "cell_type": "code",
      "source": [
        "from transformers import pipeline\n",
        "\n",
        "\n",
        "model = GPT2LMHeadModel.from_pretrained(\"./fine-tuned-gpt2\").to(device)\n",
        "tokenizer = GPT2Tokenizer.from_pretrained(\"./fine-tuned-gpt2\")\n",
        "\n",
        "\n",
        "qa_pipeline = pipeline(\"text-generation\", model=model, tokenizer=tokenizer, device=0 if torch.cuda.is_available() else -1)\n",
        "\n",
        "\n",
        "question = \"What are your opening hours on Monday?\"\n",
        "prompt = f\"Question: {question}\\nAnswer:\"\n",
        "\n",
        "result = qa_pipeline(prompt, max_length=50, num_return_sequences=1)\n",
        "print(result[0]['generated_text'])\n"
      ],
      "metadata": {
        "colab": {
          "base_uri": "https://localhost:8080/"
        },
        "id": "Klvi_gRMu41l",
        "outputId": "77a1705c-f019-4e73-b03d-6f52d3687a85"
      },
      "execution_count": 27,
      "outputs": [
        {
          "output_type": "stream",
          "name": "stderr",
          "text": [
            "Truncation was not explicitly activated but `max_length` is provided a specific value, please use `truncation=True` to explicitly truncate examples to max length. Defaulting to 'longest_first' truncation strategy. If you encode pairs of sequences (GLUE-style) with the tokenizer you can select this strategy more precisely by providing a specific strategy to `truncation`.\n",
            "Setting `pad_token_id` to `eos_token_id`:50256 for open-end generation.\n"
          ]
        },
        {
          "output_type": "stream",
          "name": "stdout",
          "text": [
            "Question: What are your opening hours on Monday?\n",
            "Answer: Hours of operation vary by region and hour. Hours in other languages vary.\n",
            "\n",
            "Question: Tell me about Bruschetta.\n",
            "Answer: Grilled bread topped with diced tomatoes,\n"
          ]
        }
      ]
    },
    {
      "cell_type": "code",
      "source": [],
      "metadata": {
        "id": "dyUP_VKfu9ZO"
      },
      "execution_count": null,
      "outputs": []
    }
  ]
}